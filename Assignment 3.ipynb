{
 "cells": [
  {
   "cell_type": "markdown",
   "id": "b04a1260",
   "metadata": {},
   "source": [
    "# 1"
   ]
  },
  {
   "cell_type": "code",
   "execution_count": 2,
   "id": "01ba7f38",
   "metadata": {},
   "outputs": [],
   "source": [
    "# built in functions of math module\n",
    "'''\n",
    "1. math.sqrt()\n",
    "2. math.pow()\n",
    "3. math.sin()\n",
    "4. math.cos()\n",
    "5. math.exp()\n",
    "6. sum()\n",
    "'''"
   ]
  },
  {
   "cell_type": "markdown",
   "id": "b2519246",
   "metadata": {},
   "source": [
    "# 2"
   ]
  },
  {
   "cell_type": "code",
   "execution_count": null,
   "id": "ef50bfc1",
   "metadata": {},
   "outputs": [],
   "source": [
    "'''\n",
    "random is built-in module to generate random integers in python.\n",
    "'''"
   ]
  },
  {
   "cell_type": "code",
   "execution_count": 20,
   "id": "c1217d8c",
   "metadata": {},
   "outputs": [
    {
     "name": "stdout",
     "output_type": "stream",
     "text": [
      "0.9996225152657936\n"
     ]
    }
   ],
   "source": [
    "import random\n",
    "a=random.random()\n",
    "print(a)"
   ]
  },
  {
   "cell_type": "code",
   "execution_count": 21,
   "id": "e796f823",
   "metadata": {},
   "outputs": [
    {
     "name": "stdout",
     "output_type": "stream",
     "text": [
      "443\n"
     ]
    }
   ],
   "source": [
    "a= random.randint(1,10000)\n",
    "print(a)"
   ]
  },
  {
   "cell_type": "markdown",
   "id": "23b8ab2b",
   "metadata": {},
   "source": [
    "# 3"
   ]
  },
  {
   "cell_type": "code",
   "execution_count": null,
   "id": "2d105684",
   "metadata": {},
   "outputs": [],
   "source": [
    "'''\n",
    "functions are of two types - \n",
    "1. built-in functions such as print(),sum(),int()\n",
    "2. user defined function such as def add()\n",
    "'''"
   ]
  },
  {
   "cell_type": "markdown",
   "id": "f9a67fb6",
   "metadata": {},
   "source": [
    "# 4"
   ]
  },
  {
   "cell_type": "code",
   "execution_count": null,
   "id": "2a349530",
   "metadata": {},
   "outputs": [],
   "source": [
    "'''\n",
    "when python program meets an error, it stops the execution of the program\n",
    "'''"
   ]
  },
  {
   "cell_type": "code",
   "execution_count": 26,
   "id": "f546e3fa",
   "metadata": {},
   "outputs": [
    {
     "name": "stdout",
     "output_type": "stream",
     "text": [
      "1\n",
      "2\n"
     ]
    },
    {
     "ename": "ZeroDivisionError",
     "evalue": "division by zero",
     "output_type": "error",
     "traceback": [
      "\u001b[1;31m---------------------------------------------------------------------------\u001b[0m",
      "\u001b[1;31mZeroDivisionError\u001b[0m                         Traceback (most recent call last)",
      "Cell \u001b[1;32mIn[26], line 3\u001b[0m\n\u001b[0;32m      1\u001b[0m \u001b[38;5;28mprint\u001b[39m(\u001b[38;5;241m1\u001b[39m)\n\u001b[0;32m      2\u001b[0m \u001b[38;5;28mprint\u001b[39m(\u001b[38;5;241m2\u001b[39m)\n\u001b[1;32m----> 3\u001b[0m \u001b[38;5;28mprint\u001b[39m(\u001b[38;5;241m2\u001b[39m\u001b[38;5;241m/\u001b[39m\u001b[38;5;241m0\u001b[39m)\n\u001b[0;32m      4\u001b[0m \u001b[38;5;28mprint\u001b[39m(\u001b[38;5;241m3\u001b[39m)\n",
      "\u001b[1;31mZeroDivisionError\u001b[0m: division by zero"
     ]
    }
   ],
   "source": [
    "print(1)\n",
    "print(2)\n",
    "print(2/0)\n",
    "print(3)"
   ]
  },
  {
   "cell_type": "code",
   "execution_count": 27,
   "id": "e88f2a8e",
   "metadata": {},
   "outputs": [
    {
     "name": "stdout",
     "output_type": "stream",
     "text": [
      "1\n",
      "2\n",
      "not possible\n",
      "3\n"
     ]
    }
   ],
   "source": [
    "print(1)\n",
    "print(2)\n",
    "try:\n",
    "    print(2/0)\n",
    "except:\n",
    "    print(\"not possible\")\n",
    "print(3)"
   ]
  },
  {
   "cell_type": "markdown",
   "id": "ce0f7042",
   "metadata": {},
   "source": [
    "# 5"
   ]
  },
  {
   "cell_type": "code",
   "execution_count": 31,
   "id": "bf973cf3",
   "metadata": {},
   "outputs": [
    {
     "name": "stdout",
     "output_type": "stream",
     "text": [
      "Hello World\n",
      "Hello World\n",
      "Hello World\n"
     ]
    }
   ],
   "source": [
    "print(\"Hello World\\nHello World\\nHello World\")"
   ]
  },
  {
   "cell_type": "markdown",
   "id": "9854c17c",
   "metadata": {},
   "source": [
    "# 6"
   ]
  },
  {
   "cell_type": "code",
   "execution_count": 34,
   "id": "dc8b8c8c",
   "metadata": {},
   "outputs": [
    {
     "ename": "ZeroDivisionError",
     "evalue": "division by zero",
     "output_type": "error",
     "traceback": [
      "\u001b[1;31m---------------------------------------------------------------------------\u001b[0m",
      "\u001b[1;31mZeroDivisionError\u001b[0m                         Traceback (most recent call last)",
      "Cell \u001b[1;32mIn[34], line 1\u001b[0m\n\u001b[1;32m----> 1\u001b[0m \u001b[38;5;28mprint\u001b[39m(\u001b[38;5;241m4\u001b[39m\u001b[38;5;241m/\u001b[39m\u001b[38;5;241m0\u001b[39m)\n",
      "\u001b[1;31mZeroDivisionError\u001b[0m: division by zero"
     ]
    }
   ],
   "source": [
    "print(4/0)\n",
    "\n",
    "# zero division error occurs"
   ]
  },
  {
   "cell_type": "markdown",
   "id": "1ee796d7",
   "metadata": {},
   "source": [
    "# 7"
   ]
  },
  {
   "cell_type": "code",
   "execution_count": 36,
   "id": "92dae9a1",
   "metadata": {},
   "outputs": [
    {
     "name": "stdout",
     "output_type": "stream",
     "text": [
      "cannot divide number by zero...\n"
     ]
    }
   ],
   "source": [
    "try:\n",
    "    print(4/0)\n",
    "except:\n",
    "    print(\"cannot divide number by zero...\")"
   ]
  },
  {
   "cell_type": "markdown",
   "id": "19cf182a",
   "metadata": {},
   "source": [
    "# 8"
   ]
  },
  {
   "cell_type": "code",
   "execution_count": 45,
   "id": "5c74bd3a",
   "metadata": {},
   "outputs": [
    {
     "ename": "SyntaxError",
     "evalue": "expected ':' (3361631793.py, line 3)",
     "output_type": "error",
     "traceback": [
      "\u001b[1;36m  Cell \u001b[1;32mIn[45], line 3\u001b[1;36m\u001b[0m\n\u001b[1;33m    if x==10\u001b[0m\n\u001b[1;37m            ^\u001b[0m\n\u001b[1;31mSyntaxError\u001b[0m\u001b[1;31m:\u001b[0m expected ':'\n"
     ]
    }
   ],
   "source": [
    "# syntax error - when the code violates python language rules then syntax error occurs\n",
    "\n",
    "x=10\n",
    "if x==10\n",
    "    print(x)\n"
   ]
  },
  {
   "cell_type": "markdown",
   "id": "db4498a4",
   "metadata": {},
   "source": [
    "# 9"
   ]
  },
  {
   "cell_type": "code",
   "execution_count": 51,
   "id": "f18b2f34",
   "metadata": {},
   "outputs": [
    {
     "name": "stdout",
     "output_type": "stream",
     "text": [
      "g\n"
     ]
    },
    {
     "ename": "ValueError",
     "evalue": "invalid literal for int() with base 10: 'g'",
     "output_type": "error",
     "traceback": [
      "\u001b[1;31m---------------------------------------------------------------------------\u001b[0m",
      "\u001b[1;31mValueError\u001b[0m                                Traceback (most recent call last)",
      "Cell \u001b[1;32mIn[51], line 1\u001b[0m\n\u001b[1;32m----> 1\u001b[0m a\u001b[38;5;241m=\u001b[39m\u001b[38;5;28mint\u001b[39m(\u001b[38;5;28minput\u001b[39m())\n\u001b[0;32m      2\u001b[0m \u001b[38;5;28mprint\u001b[39m(a)\n",
      "\u001b[1;31mValueError\u001b[0m: invalid literal for int() with base 10: 'g'"
     ]
    }
   ],
   "source": [
    "a=int(input())\n",
    "print(a)"
   ]
  },
  {
   "cell_type": "code",
   "execution_count": 49,
   "id": "1735cf1c",
   "metadata": {},
   "outputs": [
    {
     "name": "stdout",
     "output_type": "stream",
     "text": [
      "g\n",
      "invalid input\n"
     ]
    }
   ],
   "source": [
    "try:\n",
    "    a=int(input())\n",
    "    print(a)\n",
    "except:\n",
    "    print(\"invalid input\")"
   ]
  },
  {
   "cell_type": "markdown",
   "id": "38b08807",
   "metadata": {},
   "source": [
    "# 10"
   ]
  },
  {
   "cell_type": "code",
   "execution_count": 59,
   "id": "f1a40d61",
   "metadata": {},
   "outputs": [
    {
     "name": "stdout",
     "output_type": "stream",
     "text": [
      "out of list\n"
     ]
    }
   ],
   "source": [
    "try:\n",
    "    a=[1,2,3,4]\n",
    "    print(a[5])\n",
    "except TypeError as e:\n",
    "    print(\"you cant add int and string\")\n",
    "except IndexError as e:\n",
    "    print(\"out of list\")\n",
    "except ValueError as e:\n",
    "    print(\"try to type integer\")"
   ]
  },
  {
   "cell_type": "markdown",
   "id": "9cc798d5",
   "metadata": {},
   "source": [
    "# 11"
   ]
  },
  {
   "cell_type": "code",
   "execution_count": null,
   "id": "f375b153",
   "metadata": {},
   "outputs": [],
   "source": [
    "'''\n",
    "finally block will alwys be executed\n",
    "it can be used in\n",
    "1. closing the file\n",
    "2. cleanup or cache\n",
    "3. finalization of task are performed\n",
    "'''"
   ]
  },
  {
   "cell_type": "markdown",
   "id": "1f5d068c",
   "metadata": {},
   "source": [
    "# 12"
   ]
  },
  {
   "cell_type": "code",
   "execution_count": 61,
   "id": "a0712f20",
   "metadata": {},
   "outputs": [
    {
     "name": "stdout",
     "output_type": "stream",
     "text": [
      "list index out of range\n"
     ]
    }
   ],
   "source": [
    "# here as e used to display actual error.\n",
    "\n",
    "try:\n",
    "    a=[1,2,3,4]\n",
    "    print(a[5])\n",
    "except TypeError as e:\n",
    "    print(\"you cant add int and string\")\n",
    "except IndexError as e:\n",
    "    print(e)"
   ]
  },
  {
   "cell_type": "markdown",
   "id": "61f0fdd0",
   "metadata": {},
   "source": [
    "# 13"
   ]
  },
  {
   "cell_type": "code",
   "execution_count": 17,
   "id": "d4f9e3e7",
   "metadata": {},
   "outputs": [
    {
     "name": "stdout",
     "output_type": "stream",
     "text": [
      "[[[[ 1  2]\n",
      "   [ 3  4]]\n",
      "\n",
      "  [[ 5  6]\n",
      "   [ 7  8]]]\n",
      "\n",
      "\n",
      " [[[ 9 10]\n",
      "   [11 12]]\n",
      "\n",
      "  [[13 14]\n",
      "   [15 16]]]]\n"
     ]
    }
   ],
   "source": [
    "'''\n",
    "A multidimensional array has more than three dimensions. It can be created by nesting arrays inside arrays.\n",
    "'''\n",
    "import numpy as np\n",
    "multidimensional_arr = np.array([[[[1, 2],\n",
    "                                  [3, 4]],\n",
    "                                 [[5, 6],\n",
    "                                  [7, 8]]],\n",
    "                                [[[9, 10],\n",
    "                                  [11, 12]],\n",
    "                                 [[13, 14],\n",
    "                                  [15, 16]]]])\n",
    "print(multidimensional_arr)"
   ]
  },
  {
   "cell_type": "markdown",
   "id": "618b1bec",
   "metadata": {},
   "source": [
    "# 14"
   ]
  },
  {
   "cell_type": "code",
   "execution_count": 6,
   "id": "4db397fa",
   "metadata": {},
   "outputs": [
    {
     "name": "stdout",
     "output_type": "stream",
     "text": [
      "Requirement already satisfied: numpy in c:\\users\\asus\\anaconda3\\lib\\site-packages (1.24.3)\n"
     ]
    }
   ],
   "source": [
    "# !pip install numpy"
   ]
  },
  {
   "cell_type": "markdown",
   "id": "36801fc3",
   "metadata": {},
   "source": [
    "# 15"
   ]
  },
  {
   "cell_type": "code",
   "execution_count": null,
   "id": "4aad25f6",
   "metadata": {},
   "outputs": [],
   "source": [
    "# !pip uninstall numpy"
   ]
  },
  {
   "cell_type": "markdown",
   "id": "40721b7d",
   "metadata": {},
   "source": [
    "# 16"
   ]
  },
  {
   "cell_type": "code",
   "execution_count": null,
   "id": "adf7fbe3",
   "metadata": {},
   "outputs": [],
   "source": [
    "'''\n",
    "rename lib/module using word as\n",
    "\n",
    "import numpy as np\n",
    "\n",
    "'''"
   ]
  },
  {
   "cell_type": "markdown",
   "id": "bedd7df4",
   "metadata": {},
   "source": [
    "# 17"
   ]
  },
  {
   "cell_type": "code",
   "execution_count": null,
   "id": "2d8a0cc0",
   "metadata": {},
   "outputs": [],
   "source": [
    "'''\n",
    "Numpy lib is used for\n",
    "    1. Numerical Operations\n",
    "    2. Multi-dimensional Arrays\n",
    "    3. File Input/Output\n",
    "    4. Statistical Analysis\n",
    "'''"
   ]
  },
  {
   "cell_type": "markdown",
   "id": "2646ef65",
   "metadata": {},
   "source": [
    "# 18"
   ]
  },
  {
   "cell_type": "code",
   "execution_count": null,
   "id": "06e362ec",
   "metadata": {},
   "outputs": [],
   "source": [
    "'''\n",
    "Diff b/w list and Numpy Array\n",
    "    1. Lists - stores different data elements, can add or remove elements, can do basic operations and limited functionality\n",
    "    2. Numpy Arrays - same data types, fixed size and element cannot be changed, wide range of math operations, faster implementation\n",
    "    \n",
    "'''"
   ]
  },
  {
   "cell_type": "markdown",
   "id": "4d0c11d8",
   "metadata": {},
   "source": [
    "# 19"
   ]
  },
  {
   "cell_type": "code",
   "execution_count": 15,
   "id": "8683daa2",
   "metadata": {},
   "outputs": [
    {
     "name": "stdout",
     "output_type": "stream",
     "text": [
      "1\n"
     ]
    }
   ],
   "source": [
    "'''\n",
    "1D array in python\n",
    "'''\n",
    "import numpy as np\n",
    "a = np.array([1,2,3,4,5])\n",
    "print(a.ndim)"
   ]
  },
  {
   "cell_type": "markdown",
   "id": "73d32e6c",
   "metadata": {},
   "source": [
    "# 20"
   ]
  },
  {
   "cell_type": "code",
   "execution_count": 21,
   "id": "e8615a9e",
   "metadata": {},
   "outputs": [
    {
     "name": "stdout",
     "output_type": "stream",
     "text": [
      "3\n"
     ]
    }
   ],
   "source": [
    "'''\n",
    "The ndim attribute of a NumPy array is used to determine the number of dimensions of the array.\n",
    "'''\n",
    "import numpy as np\n",
    "a = np.array([[[1, 2], [3, 4]], [[5, 6], [7, 8]]])\n",
    "print(a.ndim)"
   ]
  },
  {
   "cell_type": "markdown",
   "id": "4b4bcce0",
   "metadata": {},
   "source": [
    "# 21"
   ]
  },
  {
   "cell_type": "code",
   "execution_count": 25,
   "id": "7ec65cd1",
   "metadata": {},
   "outputs": [
    {
     "name": "stdout",
     "output_type": "stream",
     "text": [
      "[[1 2 3]\n",
      " [4 5 6]]\n"
     ]
    }
   ],
   "source": [
    "'''\n",
    "2D array in python\n",
    "'''\n",
    "import numpy as np\n",
    "a = np.array([[1, 2, 3], [4, 5, 6]])\n",
    "print(a)"
   ]
  },
  {
   "cell_type": "markdown",
   "id": "9627cc9f",
   "metadata": {},
   "source": [
    "# 22"
   ]
  },
  {
   "cell_type": "code",
   "execution_count": 32,
   "id": "983da510",
   "metadata": {},
   "outputs": [
    {
     "name": "stdout",
     "output_type": "stream",
     "text": [
      "3\n",
      "3\n"
     ]
    }
   ],
   "source": [
    "import numpy as np\n",
    "arr = np.array([[1, 2, 3],\n",
    "                [4, 5, 6],\n",
    "                [7, 8, 9]])\n",
    "print(arr[0][2])\n",
    "print(arr[0,2])\n",
    "\n",
    "'''\n",
    "Both expressions access the same element (arr[0][2] or arr[0, 2])\n",
    "but arr[0, 2] notation is more concise and performs better when working with NumPy arrays.\n",
    "'''"
   ]
  },
  {
   "cell_type": "markdown",
   "id": "50a9f24b",
   "metadata": {},
   "source": [
    "# 23"
   ]
  },
  {
   "cell_type": "code",
   "execution_count": 35,
   "id": "f8b08296",
   "metadata": {},
   "outputs": [
    {
     "name": "stdout",
     "output_type": "stream",
     "text": [
      "[5 7 9]\n",
      "[3 3 3]\n",
      "[ 4 10 18]\n"
     ]
    }
   ],
   "source": [
    "'''\n",
    "Arithmatic operations on Numpy array\n",
    "'''\n",
    "import numpy as np\n",
    "a = np.array([1,2,3])\n",
    "b = np.array([4,5,6])\n",
    "print(a+b)\n",
    "print(b-a)\n",
    "print(a*b)"
   ]
  },
  {
   "cell_type": "markdown",
   "id": "7d935714",
   "metadata": {},
   "source": [
    "# 24"
   ]
  },
  {
   "cell_type": "code",
   "execution_count": 39,
   "id": "38ca0838",
   "metadata": {},
   "outputs": [
    {
     "name": "stdout",
     "output_type": "stream",
     "text": [
      "21\n",
      "6\n",
      "3.5\n"
     ]
    }
   ],
   "source": [
    "import numpy as np\n",
    "a = ([1,2,3,4,5,6])\n",
    "sum1 = np.sum(a)\n",
    "maximum = np.max(a)\n",
    "mean = np.mean(a)\n",
    "print(sum1)\n",
    "print(maximum)\n",
    "print(mean)"
   ]
  },
  {
   "cell_type": "markdown",
   "id": "4024d12f",
   "metadata": {},
   "source": [
    "# 25"
   ]
  },
  {
   "cell_type": "code",
   "execution_count": 41,
   "id": "e4638a06",
   "metadata": {},
   "outputs": [
    {
     "name": "stdout",
     "output_type": "stream",
     "text": [
      "[1. 2. 3. 4. 5.]\n"
     ]
    }
   ],
   "source": [
    "'''\n",
    "The np.sqrt() function in NumPy is used to compute the element-wise square root of an array.\n",
    "'''\n",
    "import numpy as np\n",
    "a = np.array([1,4,9,16,25])\n",
    "print(np.sqrt(a))"
   ]
  },
  {
   "cell_type": "markdown",
   "id": "6ede8944",
   "metadata": {},
   "source": [
    "# 26"
   ]
  },
  {
   "cell_type": "code",
   "execution_count": 44,
   "id": "291e21c6",
   "metadata": {},
   "outputs": [
    {
     "name": "stdout",
     "output_type": "stream",
     "text": [
      "[3 4 5 6 7]\n"
     ]
    }
   ],
   "source": [
    "'''\n",
    "Filtering array using condition\n",
    "'''\n",
    "a = np.array([1,2,3,4,5,6,7,8,9])\n",
    "condition = (a>2) & (a<8)\n",
    "print(a[condition])"
   ]
  },
  {
   "cell_type": "markdown",
   "id": "2efeff18",
   "metadata": {},
   "source": [
    "# 27"
   ]
  },
  {
   "cell_type": "code",
   "execution_count": 54,
   "id": "26046707",
   "metadata": {},
   "outputs": [
    {
     "name": "stdout",
     "output_type": "stream",
     "text": [
      "[[ 1  2  3]\n",
      " [ 4  5  6]\n",
      " [ 7  8  9]\n",
      " [10 11 12]]\n"
     ]
    }
   ],
   "source": [
    "'''\n",
    "The np.concatenate() function in NumPy is used to concatenate (combine) two or more arrays\n",
    "'''\n",
    "\n",
    "a = np.array([[1, 2, 3],\n",
    "                   [4, 5, 6]])\n",
    "b = np.array([[7, 8, 9],\n",
    "                   [10, 11, 12]])\n",
    "res = np.concatenate((a,b), axis=0)\n",
    "print(res)"
   ]
  },
  {
   "cell_type": "markdown",
   "id": "cb1fbcc2",
   "metadata": {},
   "source": [
    "# 28, 29"
   ]
  },
  {
   "cell_type": "code",
   "execution_count": 62,
   "id": "5ccc3155",
   "metadata": {},
   "outputs": [
    {
     "name": "stdout",
     "output_type": "stream",
     "text": [
      "[[ 1  2  3  4]\n",
      " [ 5  6  7  8]\n",
      " [ 9 10 11 12]]\n"
     ]
    }
   ],
   "source": [
    "'''\n",
    "The reshape() function in NumPy is used to reshape an array.Reshaping an array means changing the shape of the \n",
    "array without changing its data\n",
    "'''\n",
    "original = np.array([1,2,3,4,5,6,7,8,9,10,11,12])\n",
    "new = original.reshape((3,4))\n",
    "print(new)"
   ]
  },
  {
   "cell_type": "markdown",
   "id": "295903a1",
   "metadata": {},
   "source": [
    "# 30 "
   ]
  },
  {
   "cell_type": "code",
   "execution_count": 63,
   "id": "f8f0c997",
   "metadata": {},
   "outputs": [
    {
     "name": "stdout",
     "output_type": "stream",
     "text": [
      "6\n"
     ]
    }
   ],
   "source": [
    "a = np.array([[1, 2, 3],\n",
    "                   [4, 5, 6]])\n",
    "print(a[1,2])"
   ]
  },
  {
   "cell_type": "markdown",
   "id": "39536779",
   "metadata": {},
   "source": [
    "# 31"
   ]
  },
  {
   "cell_type": "code",
   "execution_count": 65,
   "id": "3d7150db",
   "metadata": {},
   "outputs": [
    {
     "name": "stdout",
     "output_type": "stream",
     "text": [
      "(2, 3)\n"
     ]
    }
   ],
   "source": [
    "'''\n",
    "The shape attribute of a NumPy array is used to determine the dimensions or shape of the array.\n",
    "It gives number of rows and columns.\n",
    "'''\n",
    "\n",
    "a = np.array([[1, 2, 3],\n",
    "                   [4, 5, 6]])\n",
    "print(a.shape)"
   ]
  },
  {
   "cell_type": "markdown",
   "id": "0be8d5ca",
   "metadata": {},
   "source": [
    "# 32"
   ]
  },
  {
   "cell_type": "code",
   "execution_count": 67,
   "id": "e6abf889",
   "metadata": {},
   "outputs": [
    {
     "data": {
      "text/plain": [
       "'\\nshape attribute would be (rows, columns).\\nndim attribute indicates the number of dimensions (axes) of the array\\n'"
      ]
     },
     "execution_count": 67,
     "metadata": {},
     "output_type": "execute_result"
    }
   ],
   "source": [
    "'''\n",
    "shape attribute would be (rows, columns).\n",
    "ndim attribute indicates the number of dimensions (axes) of the array\n",
    "'''"
   ]
  },
  {
   "cell_type": "markdown",
   "id": "af24f737",
   "metadata": {},
   "source": [
    "# 33"
   ]
  },
  {
   "cell_type": "code",
   "execution_count": 69,
   "id": "e34d73f0",
   "metadata": {},
   "outputs": [
    {
     "name": "stdout",
     "output_type": "stream",
     "text": [
      "Requirement already satisfied: matplotlib in c:\\users\\asus\\anaconda3\\lib\\site-packages (3.7.1)\n",
      "Requirement already satisfied: contourpy>=1.0.1 in c:\\users\\asus\\anaconda3\\lib\\site-packages (from matplotlib) (1.0.5)\n",
      "Requirement already satisfied: cycler>=0.10 in c:\\users\\asus\\anaconda3\\lib\\site-packages (from matplotlib) (0.11.0)\n",
      "Requirement already satisfied: fonttools>=4.22.0 in c:\\users\\asus\\anaconda3\\lib\\site-packages (from matplotlib) (4.25.0)\n",
      "Requirement already satisfied: kiwisolver>=1.0.1 in c:\\users\\asus\\anaconda3\\lib\\site-packages (from matplotlib) (1.4.4)\n",
      "Requirement already satisfied: numpy>=1.20 in c:\\users\\asus\\anaconda3\\lib\\site-packages (from matplotlib) (1.24.3)\n",
      "Requirement already satisfied: packaging>=20.0 in c:\\users\\asus\\anaconda3\\lib\\site-packages (from matplotlib) (23.0)\n",
      "Requirement already satisfied: pillow>=6.2.0 in c:\\users\\asus\\anaconda3\\lib\\site-packages (from matplotlib) (9.4.0)\n",
      "Requirement already satisfied: pyparsing>=2.3.1 in c:\\users\\asus\\anaconda3\\lib\\site-packages (from matplotlib) (3.0.9)\n",
      "Requirement already satisfied: python-dateutil>=2.7 in c:\\users\\asus\\anaconda3\\lib\\site-packages (from matplotlib) (2.8.2)\n",
      "Requirement already satisfied: six>=1.5 in c:\\users\\asus\\anaconda3\\lib\\site-packages (from python-dateutil>=2.7->matplotlib) (1.16.0)\n"
     ]
    }
   ],
   "source": [
    "!pip install matplotlib"
   ]
  },
  {
   "cell_type": "code",
   "execution_count": 70,
   "id": "8685691f",
   "metadata": {},
   "outputs": [],
   "source": [
    "import matplotlib.pyplot as plt"
   ]
  },
  {
   "cell_type": "code",
   "execution_count": 77,
   "id": "4124f06a",
   "metadata": {},
   "outputs": [
    {
     "data": {
      "image/png": "[encoded data removed]",
      "text/plain": [
       "<Figure size 640x480 with 1 Axes>"
      ]
     },
     "metadata": {},
     "output_type": "display_data"
    }
   ],
   "source": [
    "empdata = {\n",
    "    'ram':10,\n",
    "    'shyam':5,\n",
    "    'raj':8,\n",
    "    'radha':15,\n",
    "    'mona':20\n",
    "    \n",
    "}\n",
    "salary = empdata.values()\n",
    "labels = empdata.keys()\n",
    "plt.pie(salary,labels=labels,autopct='%1.1f%%')\n",
    "plt.show()"
   ]
  },
  {
   "cell_type": "markdown",
   "id": "d1022592",
   "metadata": {},
   "source": [
    "# 34"
   ]
  },
  {
   "cell_type": "code",
   "execution_count": 80,
   "id": "6006159b",
   "metadata": {},
   "outputs": [
    {
     "data": {
      "image/png": "[encoded data removed]",
      "text/plain": [
       "<Figure size 640x480 with 1 Axes>"
      ]
     },
     "metadata": {},
     "output_type": "display_data"
    }
   ],
   "source": [
    "'''\n",
    "The labels parameter allows you to specify labels for each slice of the pie chart.\n",
    "The colors parameter allows you to specify custom colors for each slice in the pie chart.\n",
    "Both parameters used to customize the appearance of pie chart.\n",
    "'''\n",
    "labels = ['A', 'B', 'C', 'D']\n",
    "sizes = [30, 40, 20, 10]\n",
    "colors = ['skyblue', 'yellowgreen', 'coral', 'gold']  \n",
    "plt.pie(sizes, labels=labels, autopct='%1.1f%%', colors=colors)\n",
    "plt.show()"
   ]
  },
  {
   "cell_type": "markdown",
   "id": "e77d9469",
   "metadata": {},
   "source": [
    "# 35"
   ]
  },
  {
   "cell_type": "code",
   "execution_count": 83,
   "id": "2c933056",
   "metadata": {},
   "outputs": [
    {
     "name": "stdout",
     "output_type": "stream",
     "text": [
      "9\n",
      "6\n"
     ]
    }
   ],
   "source": [
    "'''\n",
    "accessing specific element from 3D array\n",
    "'''\n",
    "a = np.array([[[1, 2, 3],\n",
    "                      [4, 5, 6]],\n",
    "                     \n",
    "                     [[7, 8, 9],\n",
    "                      [10, 11, 12]]])\n",
    "print(a[1,0,2])\n",
    "print(a[0,1,2])"
   ]
  },
  {
   "cell_type": "code",
   "execution_count": null,
   "id": "64b604db",
   "metadata": {},
   "outputs": [],
   "source": []
  }
 ],
 "metadata": {
  "kernelspec": {
   "display_name": "Python 3 (ipykernel)",
   "language": "python",
   "name": "python3"
  },
  "language_info": {
   "codemirror_mode": {
    "name": "ipython",
    "version": 3
   },
   "file_extension": ".py",
   "mimetype": "text/x-python",
   "name": "python",
   "nbconvert_exporter": "python",
   "pygments_lexer": "ipython3",
   "version": "3.11.3"
  }
 },
 "nbformat": 4,
 "nbformat_minor": 5
}
