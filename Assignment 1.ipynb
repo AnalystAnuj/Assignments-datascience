{
 "cells": [
  {
   "cell_type": "markdown",
   "id": "67356950",
   "metadata": {},
   "source": [
    "# 1"
   ]
  },
  {
   "cell_type": "code",
   "execution_count": null,
   "id": "9aa1e51c",
   "metadata": {
    "scrolled": true
   },
   "outputs": [],
   "source": [
    "a=5\n",
    "b=3\n",
    "print(a+b)"
   ]
  },
  {
   "cell_type": "markdown",
   "id": "7955d1cf",
   "metadata": {},
   "source": [
    "# 2"
   ]
  },
  {
   "cell_type": "code",
   "execution_count": null,
   "id": "f81a8d62",
   "metadata": {},
   "outputs": [],
   "source": [
    "a=10\n",
    "b=4\n",
    "print(a-b)"
   ]
  },
  {
   "cell_type": "markdown",
   "id": "95b508d4",
   "metadata": {},
   "source": [
    "# 3"
   ]
  },
  {
   "cell_type": "code",
   "execution_count": null,
   "id": "1083f88e",
   "metadata": {},
   "outputs": [],
   "source": [
    "a=6\n",
    "b=7\n",
    "print(a*b)"
   ]
  },
  {
   "cell_type": "markdown",
   "id": "3eaab312",
   "metadata": {},
   "source": [
    "# 4 "
   ]
  },
  {
   "cell_type": "code",
   "execution_count": null,
   "id": "c0cc86ee",
   "metadata": {},
   "outputs": [],
   "source": [
    "print(15/3)"
   ]
  },
  {
   "cell_type": "markdown",
   "id": "4f7a1718",
   "metadata": {},
   "source": [
    "# 5"
   ]
  },
  {
   "cell_type": "code",
   "execution_count": null,
   "id": "2a53fa29",
   "metadata": {},
   "outputs": [],
   "source": [
    "print(10//3)"
   ]
  },
  {
   "cell_type": "markdown",
   "id": "77a16818",
   "metadata": {},
   "source": [
    "# 6"
   ]
  },
  {
   "cell_type": "code",
   "execution_count": null,
   "id": "b20a1eb0",
   "metadata": {},
   "outputs": [],
   "source": [
    "print(12%5)"
   ]
  },
  {
   "cell_type": "markdown",
   "id": "9d4cf965",
   "metadata": {},
   "source": [
    "# 7"
   ]
  },
  {
   "cell_type": "code",
   "execution_count": null,
   "id": "c0d291b4",
   "metadata": {},
   "outputs": [],
   "source": [
    "print(2**4)"
   ]
  },
  {
   "cell_type": "markdown",
   "id": "6e63f749",
   "metadata": {},
   "source": [
    "# 8"
   ]
  },
  {
   "cell_type": "code",
   "execution_count": null,
   "id": "ecbef8bd",
   "metadata": {
    "scrolled": true
   },
   "outputs": [],
   "source": [
    "x=5\n",
    "y=3\n",
    "print(x+y*2)"
   ]
  },
  {
   "cell_type": "markdown",
   "id": "7b1e4dc9",
   "metadata": {},
   "source": [
    "# 9"
   ]
  },
  {
   "cell_type": "code",
   "execution_count": null,
   "id": "74a53532",
   "metadata": {},
   "outputs": [],
   "source": [
    "a=7\n",
    "b=5\n",
    "print(a>b)"
   ]
  },
  {
   "cell_type": "markdown",
   "id": "0d76f70c",
   "metadata": {},
   "source": [
    "# 10"
   ]
  },
  {
   "cell_type": "code",
   "execution_count": null,
   "id": "e98fc58b",
   "metadata": {},
   "outputs": [],
   "source": [
    "print(10<5)"
   ]
  },
  {
   "cell_type": "markdown",
   "id": "94d2e2a5",
   "metadata": {},
   "source": [
    "# 11"
   ]
  },
  {
   "cell_type": "code",
   "execution_count": null,
   "id": "3b834580",
   "metadata": {},
   "outputs": [],
   "source": [
    "print(8>=8)"
   ]
  },
  {
   "cell_type": "markdown",
   "id": "bcceec66",
   "metadata": {},
   "source": [
    "# 12"
   ]
  },
  {
   "cell_type": "code",
   "execution_count": null,
   "id": "29830ff2",
   "metadata": {},
   "outputs": [],
   "source": [
    "print(6==6)"
   ]
  },
  {
   "cell_type": "markdown",
   "id": "669f5974",
   "metadata": {},
   "source": [
    "# 13"
   ]
  },
  {
   "cell_type": "code",
   "execution_count": null,
   "id": "ad1d14c2",
   "metadata": {},
   "outputs": [],
   "source": [
    "print(3!=3)"
   ]
  },
  {
   "cell_type": "markdown",
   "id": "4aa62d96",
   "metadata": {},
   "source": [
    "# 14"
   ]
  },
  {
   "cell_type": "code",
   "execution_count": null,
   "id": "5b9ee427",
   "metadata": {},
   "outputs": [],
   "source": [
    "x=10\n",
    "y=5\n",
    "if x>y:\n",
    "    print(\"true\")\n",
    "else:\n",
    "    print(\"false\")"
   ]
  },
  {
   "cell_type": "markdown",
   "id": "5d263fd8",
   "metadata": {},
   "source": [
    "# 15"
   ]
  },
  {
   "cell_type": "code",
   "execution_count": null,
   "id": "323dfdf2",
   "metadata": {},
   "outputs": [],
   "source": [
    "print(\"Hello\"==\"Hello\")"
   ]
  },
  {
   "cell_type": "markdown",
   "id": "62f60b73",
   "metadata": {},
   "source": [
    "# 16"
   ]
  },
  {
   "cell_type": "code",
   "execution_count": null,
   "id": "be03c0b2",
   "metadata": {},
   "outputs": [],
   "source": [
    "print(True and False)"
   ]
  },
  {
   "cell_type": "markdown",
   "id": "410c1dd4",
   "metadata": {},
   "source": [
    "# 17"
   ]
  },
  {
   "cell_type": "code",
   "execution_count": null,
   "id": "58933111",
   "metadata": {},
   "outputs": [],
   "source": [
    "print(True or False)"
   ]
  },
  {
   "cell_type": "markdown",
   "id": "c35a7282",
   "metadata": {},
   "source": [
    "# 18"
   ]
  },
  {
   "cell_type": "code",
   "execution_count": null,
   "id": "a5d06ff8",
   "metadata": {},
   "outputs": [],
   "source": [
    "print(not True)"
   ]
  },
  {
   "cell_type": "markdown",
   "id": "166d5b5c",
   "metadata": {},
   "source": [
    "# 19"
   ]
  },
  {
   "cell_type": "code",
   "execution_count": null,
   "id": "f5f2676e",
   "metadata": {},
   "outputs": [],
   "source": [
    "a=10>5\n",
    "b=5<2\n",
    "c=a and b\n",
    "print(c)"
   ]
  },
  {
   "cell_type": "markdown",
   "id": "75947fa1",
   "metadata": {},
   "source": [
    "# 20"
   ]
  },
  {
   "cell_type": "code",
   "execution_count": null,
   "id": "5da7b18d",
   "metadata": {},
   "outputs": [],
   "source": [
    "print((3==3)or(4!=4))"
   ]
  },
  {
   "cell_type": "markdown",
   "id": "8bc01caa",
   "metadata": {},
   "source": [
    "# 21"
   ]
  },
  {
   "cell_type": "code",
   "execution_count": null,
   "id": "58b3357e",
   "metadata": {},
   "outputs": [],
   "source": [
    "x=10\n",
    "print(x)"
   ]
  },
  {
   "cell_type": "markdown",
   "id": "8ee64c06",
   "metadata": {},
   "source": [
    "# 22"
   ]
  },
  {
   "cell_type": "code",
   "execution_count": null,
   "id": "fb7d7d88",
   "metadata": {},
   "outputs": [],
   "source": [
    "x=2\n",
    "x+=3\n",
    "print(x)"
   ]
  },
  {
   "cell_type": "markdown",
   "id": "148dd947",
   "metadata": {},
   "source": [
    "# 23"
   ]
  },
  {
   "cell_type": "code",
   "execution_count": null,
   "id": "7f986628",
   "metadata": {},
   "outputs": [],
   "source": [
    "x=10\n",
    "x-=5\n",
    "print(x)"
   ]
  },
  {
   "cell_type": "markdown",
   "id": "7fb86eb8",
   "metadata": {},
   "source": [
    "# 24"
   ]
  },
  {
   "cell_type": "code",
   "execution_count": null,
   "id": "e39bf8a0",
   "metadata": {},
   "outputs": [],
   "source": [
    "x=4\n",
    "x*=2\n",
    "print(x)"
   ]
  },
  {
   "cell_type": "markdown",
   "id": "4b9d819e",
   "metadata": {},
   "source": [
    "# 25"
   ]
  },
  {
   "cell_type": "code",
   "execution_count": null,
   "id": "23f0d113",
   "metadata": {},
   "outputs": [],
   "source": [
    "x=20\n",
    "x/=4\n",
    "print(x)"
   ]
  },
  {
   "cell_type": "markdown",
   "id": "0986ea35",
   "metadata": {},
   "source": [
    "# 26"
   ]
  },
  {
   "cell_type": "code",
   "execution_count": null,
   "id": "1a3bc42b",
   "metadata": {},
   "outputs": [],
   "source": [
    "x=11\n",
    "x%=3\n",
    "print(x)"
   ]
  },
  {
   "cell_type": "markdown",
   "id": "8ddc117f",
   "metadata": {},
   "source": [
    "# 27"
   ]
  },
  {
   "cell_type": "code",
   "execution_count": null,
   "id": "7fa68744",
   "metadata": {},
   "outputs": [],
   "source": [
    "x=5\n",
    "x**=2\n",
    "print(x)"
   ]
  },
  {
   "cell_type": "markdown",
   "id": "0975d37a",
   "metadata": {},
   "source": [
    "# 34"
   ]
  },
  {
   "cell_type": "code",
   "execution_count": null,
   "id": "df43ba95",
   "metadata": {},
   "outputs": [],
   "source": [
    "x=[1,2,3,4,5]\n",
    "print(3 in x)"
   ]
  },
  {
   "cell_type": "markdown",
   "id": "cadcbc19",
   "metadata": {},
   "source": [
    "# 35"
   ]
  },
  {
   "cell_type": "code",
   "execution_count": null,
   "id": "aadfaf55",
   "metadata": {},
   "outputs": [],
   "source": [
    "x=\"hello\"\n",
    "print(\"a\" in x)"
   ]
  },
  {
   "cell_type": "markdown",
   "id": "7aad67c9",
   "metadata": {},
   "source": [
    "# 36"
   ]
  },
  {
   "cell_type": "code",
   "execution_count": null,
   "id": "48ef6ad3",
   "metadata": {},
   "outputs": [],
   "source": [
    "x={\"name\":\"John\",\"age\":30}\n",
    "print(\"age\" in x)"
   ]
  },
  {
   "cell_type": "markdown",
   "id": "07818b92",
   "metadata": {},
   "source": [
    "# 39"
   ]
  },
  {
   "cell_type": "code",
   "execution_count": null,
   "id": "4e99b19e",
   "metadata": {},
   "outputs": [],
   "source": [
    "print(5+3*2)"
   ]
  },
  {
   "cell_type": "markdown",
   "id": "5c7d8079",
   "metadata": {},
   "source": [
    "# 40"
   ]
  },
  {
   "cell_type": "code",
   "execution_count": null,
   "id": "9922c3b7",
   "metadata": {},
   "outputs": [],
   "source": [
    "print((10+3)*2)"
   ]
  },
  {
   "cell_type": "markdown",
   "id": "eb2304f4",
   "metadata": {},
   "source": [
    "# 41"
   ]
  },
  {
   "cell_type": "code",
   "execution_count": null,
   "id": "29ac1941",
   "metadata": {},
   "outputs": [],
   "source": [
    "print(10+3/2)"
   ]
  },
  {
   "cell_type": "markdown",
   "id": "a475ed2a",
   "metadata": {},
   "source": [
    "# 42"
   ]
  },
  {
   "cell_type": "code",
   "execution_count": null,
   "id": "a05319fd",
   "metadata": {},
   "outputs": [],
   "source": [
    "print(8-4+2)"
   ]
  },
  {
   "cell_type": "markdown",
   "id": "f2b225a1",
   "metadata": {},
   "source": [
    "# 43"
   ]
  },
  {
   "cell_type": "code",
   "execution_count": null,
   "id": "87ad9c95",
   "metadata": {},
   "outputs": [],
   "source": [
    "print(10 in range(5,15))"
   ]
  },
  {
   "cell_type": "markdown",
   "id": "f0f2aefb",
   "metadata": {},
   "source": [
    "# 44"
   ]
  },
  {
   "cell_type": "code",
   "execution_count": 1,
   "id": "9b352a62",
   "metadata": {
    "scrolled": true
   },
   "outputs": [
    {
     "name": "stdout",
     "output_type": "stream",
     "text": [
      "number is positive and even\n"
     ]
    }
   ],
   "source": [
    "num = 10\n",
    "if num>0 and num%2==0:\n",
    "    print(\"number is positive and even\")"
   ]
  },
  {
   "cell_type": "markdown",
   "id": "3bdb97da",
   "metadata": {},
   "source": [
    "# 45"
   ]
  },
  {
   "cell_type": "code",
   "execution_count": 7,
   "id": "daa51e86",
   "metadata": {},
   "outputs": [
    {
     "name": "stdout",
     "output_type": "stream",
     "text": [
      "type any char=z\n",
      "char is lower case\n"
     ]
    }
   ],
   "source": [
    "x=str(input(\"type any char=\"))\n",
    "if \"a\"<=x<=\"z\":\n",
    "    print(\"char is lower case\")\n",
    "else:\n",
    "    print(\"Char is upper case\")"
   ]
  },
  {
   "cell_type": "markdown",
   "id": "5147d237",
   "metadata": {},
   "source": [
    "# 48\n",
    "* precedence= arithmatic > comparison > logical "
   ]
  },
  {
   "cell_type": "markdown",
   "id": "283342e9",
   "metadata": {},
   "source": [
    "# 49"
   ]
  },
  {
   "cell_type": "code",
   "execution_count": 1,
   "id": "48a8fde0",
   "metadata": {},
   "outputs": [
    {
     "name": "stdout",
     "output_type": "stream",
     "text": [
      "Killermove\n"
     ]
    },
    {
     "data": {
      "text/plain": [
       "<function print(*args, sep=' ', end='\\n', file=None, flush=False)>"
      ]
     },
     "execution_count": 1,
     "metadata": {},
     "output_type": "execute_result"
    }
   ],
   "source": [
    "print(\"Killer\"+\"move\")\n",
    "print"
   ]
  },
  {
   "cell_type": "markdown",
   "id": "22bfff4f",
   "metadata": {},
   "source": [
    "# 50"
   ]
  },
  {
   "cell_type": "code",
   "execution_count": null,
   "id": "6f11adad",
   "metadata": {
    "scrolled": true
   },
   "outputs": [],
   "source": [
    "x=int(input(\"type first number=\"))\n",
    "y=int(input(\"type second number=\"))\n",
    "if x>=0 and y>=0: \n",
    "    print(\"sum=\",x+y)\n",
    "else:\n",
    "    print(\"Invalid input\")"
   ]
  },
  {
   "cell_type": "code",
   "execution_count": null,
   "id": "76e48f25",
   "metadata": {
    "scrolled": true
   },
   "outputs": [],
   "source": [
    "x=int(input(\"type first number=\"))\n",
    "y=int(input(\"type second number=\"))\n",
    "if x>=0 and y>=0: \n",
    "    print(\"sum=\",x+y)\n",
    "else:\n",
    "    print(\"Invalid input\")"
   ]
  }
 ],
 "metadata": {
  "kernelspec": {
   "display_name": "Python 3 (ipykernel)",
   "language": "python",
   "name": "python3"
  },
  "language_info": {
   "codemirror_mode": {
    "name": "ipython",
    "version": 3
   },
   "file_extension": ".py",
   "mimetype": "text/x-python",
   "name": "python",
   "nbconvert_exporter": "python",
   "pygments_lexer": "ipython3",
   "version": "3.11.3"
  }
 },
 "nbformat": 4,
 "nbformat_minor": 5
}
